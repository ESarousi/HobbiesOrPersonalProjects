{
 "cells": [
  {
   "cell_type": "code",
   "execution_count": 50,
   "id": "3a7d03be",
   "metadata": {},
   "outputs": [],
   "source": [
    "MPY = input(\"How many miles do you drive per year? \")\n",
    "Gas_Cost = input(\"How much does gas cost? \")\n",
    "\n",
    "NH_Price = input(\"What is the non-hybrid price? \")\n",
    "NH_MPG = input(\"What is the non-hybrid combined MPG? \")\n",
    "\n",
    "H_Price = input(\"What is the hybrid price? \")\n",
    "H_MPG = input(\"What is the hybrid combined MPG? \")\n",
    "\n",
    "Years = input(\"How many years do you plan on owning this car? \")"
   ]
  },
  {
   "cell_type": "code",
   "execution_count": 51,
   "id": "8c3b4640",
   "metadata": {},
   "outputs": [
    {
     "data": {
      "text/plain": [
       "2485"
      ]
     },
     "execution_count": 51,
     "metadata": {},
     "output_type": "execute_result"
    }
   ],
   "source": [
    "Diff_in_cost = H_Price - NH_Price\n",
    "\n",
    "Diff_in_cost #Difference in the cost of gas."
   ]
  },
  {
   "cell_type": "code",
   "execution_count": 52,
   "id": "56fe3fa2",
   "metadata": {},
   "outputs": [
    {
     "name": "stdout",
     "output_type": "stream",
     "text": [
      "Non-Hybrid Gas: 241.3793103448276\n",
      "Hybrid Gas: 159.0909090909091\n"
     ]
    }
   ],
   "source": [
    "NH_Gas = MPY / NH_MPG\n",
    "H_Gas = MPY / H_MPG #Scaling down the miles per year by the miles per gallon.\n",
    "\n",
    "print('Non-Hybrid Gas: ' + str(NH_Gas))\n",
    "print('Hybrid Gas: ' + str(H_Gas))"
   ]
  },
  {
   "cell_type": "code",
   "execution_count": 53,
   "id": "14050a86",
   "metadata": {},
   "outputs": [
    {
     "name": "stdout",
     "output_type": "stream",
     "text": [
      "Non-Hybrid Gas Cost: 844.8275862068965\n",
      "Hybrid Gas Cost: 556.8181818181819\n"
     ]
    }
   ],
   "source": [
    "NH_Cost = NH_Gas * Gas_Cost\n",
    "H_Cost = H_Gas * Gas_Cost #Cost per year.\n",
    "\n",
    "print('Non-Hybrid Gas Cost: ' + str(NH_Cost))\n",
    "print('Hybrid Gas Cost: ' + str(H_Cost))"
   ]
  },
  {
   "cell_type": "code",
   "execution_count": 54,
   "id": "b0d5e508",
   "metadata": {},
   "outputs": [
    {
     "name": "stdout",
     "output_type": "stream",
     "text": [
      "Difference in Gas Cost: 288.00940438871464\n"
     ]
    }
   ],
   "source": [
    "Gas_Cost_Diff_Per_Year = NH_Cost - H_Cost #Total difference in price.\n",
    "print('Difference in Gas Cost: ' + str(Gas_Cost_Diff_Per_Year))"
   ]
  },
  {
   "cell_type": "code",
   "execution_count": 55,
   "id": "d041b63a",
   "metadata": {},
   "outputs": [
    {
     "name": "stdout",
     "output_type": "stream",
     "text": [
      "Non-Hybrid Total Gas Cost: 8448.275862068966\n",
      "Hybrid Total Gas Cost: 5568.181818181819\n"
     ]
    }
   ],
   "source": [
    "NH_Total_Cost = NH_Cost * Years\n",
    "H_Total_Cost = H_Cost * Years #Cost in total for all years inputted.\n",
    "\n",
    "print('Non-Hybrid Total Gas Cost: ' + str(NH_Total_Cost))\n",
    "print('Hybrid Total Gas Cost: ' + str(H_Total_Cost))"
   ]
  },
  {
   "cell_type": "code",
   "execution_count": 56,
   "id": "696c1ab2",
   "metadata": {
    "scrolled": true
   },
   "outputs": [
    {
     "name": "stdout",
     "output_type": "stream",
     "text": [
      "Difference in Gas Cost: 2880.0940438871467\n"
     ]
    }
   ],
   "source": [
    "Gas_Cost_Diff = NH_Total_Cost - H_Total_Cost #Total difference in price.\n",
    "print('Difference in Gas Cost: ' + str(Gas_Cost_Diff))"
   ]
  },
  {
   "cell_type": "code",
   "execution_count": 57,
   "id": "b05282e4",
   "metadata": {},
   "outputs": [
    {
     "data": {
      "text/plain": [
       "8.628190476190479"
      ]
     },
     "execution_count": 57,
     "metadata": {},
     "output_type": "execute_result"
    }
   ],
   "source": [
    "ROI = Diff_in_cost / Gas_Cost_Diff_Per_Year #Return of Investment - how many years until you get your money back?\n",
    "\n",
    "ROI"
   ]
  }
 ],
 "metadata": {
  "kernelspec": {
   "display_name": "Python 3 (ipykernel)",
   "language": "python",
   "name": "python3"
  },
  "language_info": {
   "codemirror_mode": {
    "name": "ipython",
    "version": 3
   },
   "file_extension": ".py",
   "mimetype": "text/x-python",
   "name": "python",
   "nbconvert_exporter": "python",
   "pygments_lexer": "ipython3",
   "version": "3.10.4"
  }
 },
 "nbformat": 4,
 "nbformat_minor": 5
}
